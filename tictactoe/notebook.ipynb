{
  "cells": [
    {
      "cell_type": "code",
      "execution_count": 2,
      "metadata": {
        "id": "IGb-M6Ice5KI"
      },
      "outputs": [],
      "source": [
        "from tictactoe import *"
      ]
    },
    {
      "cell_type": "code",
      "execution_count": 3,
      "metadata": {
        "colab": {
          "base_uri": "https://localhost:8080/"
        },
        "id": "3CCzkcwsgb5_",
        "outputId": "0caa538d-8f3c-4263-a4e3-1743204dd76b"
      },
      "outputs": [
        {
          "name": "stdout",
          "output_type": "stream",
          "text": [
            "Welcome to Tic Tac Toe!\n",
            "\n",
            "Player X's turn\n",
            "  |   |  \n",
            "---------\n",
            "  |   |  \n",
            "---------\n",
            "  |   |  \n",
            "---------\n",
            "\n",
            "Enter your move (row, col): 1, 1\n",
            "\n",
            "Player O is thinking...\n",
            "\n",
            "Player X's turn\n",
            "O |   |  \n",
            "---------\n",
            "  | X |  \n",
            "---------\n",
            "  |   |  \n",
            "---------\n",
            "\n",
            "Enter your move (row, col): 2, 0\n",
            "\n",
            "Player O is thinking...\n",
            "\n",
            "Player X's turn\n",
            "O |   | O\n",
            "---------\n",
            "  | X |  \n",
            "---------\n",
            "X |   |  \n",
            "---------\n",
            "\n",
            "Enter your move (row, col): 0, 1\n",
            "\n",
            "Player O is thinking...\n",
            "\n",
            "Player X's turn\n",
            "O | X | O\n",
            "---------\n",
            "  | X |  \n",
            "---------\n",
            "X | O |  \n",
            "---------\n",
            "\n",
            "Enter your move (row, col): 2, 2\n",
            "\n",
            "Player O is thinking...\n",
            "\n",
            "Player X's turn\n",
            "O | X | O\n",
            "---------\n",
            "O | X |  \n",
            "---------\n",
            "X | O | X\n",
            "---------\n",
            "\n",
            "Enter your move (row, col): 1, 2\n",
            "O | X | O\n",
            "---------\n",
            "O | X | X\n",
            "---------\n",
            "X | O | X\n",
            "---------\n",
            "\n",
            "\n",
            "GAME OVER\n",
            "It's a tie!\n"
          ]
        }
      ],
      "source": [
        "def print_board(board):\n",
        "    for row in board:\n",
        "        print(\" | \".join(cell if cell else \" \" for cell in row))\n",
        "        print(\"---------\")\n",
        "    print()\n",
        "\n",
        "\n",
        "def get_player_move(board):\n",
        "    while True:\n",
        "        try:\n",
        "            move = input(\"Enter your move (row, col): \")\n",
        "            i, j = map(int, move.split(\",\"))\n",
        "            action = (i, j)\n",
        "            if action in actions(board):\n",
        "                return action\n",
        "            else:\n",
        "                print(\"Invalid move. Try again.\")\n",
        "        except ValueError:\n",
        "            print(\"Invalid input. Please enter row and column as integers separated by comma.\")\n",
        "\n",
        "\n",
        "board = initial_state()\n",
        "print(\"Welcome to Tic Tac Toe!\")\n",
        "\n",
        "while not terminal(board):\n",
        "    current_player = player(board)\n",
        "\n",
        "    if current_player == X:\n",
        "        print(\"\\nPlayer X's turn\")\n",
        "        print_board(board)\n",
        "        action = get_player_move(board)\n",
        "    else:\n",
        "        print(\"\\nPlayer O is thinking...\")\n",
        "        action = minimax(board)\n",
        "\n",
        "    board = result(board, action)\n",
        "\n",
        "print_board(board)\n",
        "print(\"\\nGAME OVER\")\n",
        "\n",
        "game_winner = winner(board)\n",
        "if game_winner:\n",
        "    print(f\"Player {game_winner} wins!\")\n",
        "else:\n",
        "    print(\"It's a tie!\")"
      ]
    }
  ],
  "metadata": {
    "colab": {
      "provenance": []
    },
    "kernelspec": {
      "display_name": "Python 3",
      "name": "python3"
    },
    "language_info": {
      "name": "python",
      "version": "3.10.14"
    }
  },
  "nbformat": 4,
  "nbformat_minor": 0
}
