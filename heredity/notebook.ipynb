{
 "cells": [
  {
   "cell_type": "code",
   "execution_count": 1,
   "metadata": {},
   "outputs": [
    {
     "name": "stdout",
     "output_type": "stream",
     "text": [
      "Harry:\n",
      "  Gene:\n",
      "    2: 0.0092\n",
      "    1: 0.4557\n",
      "    0: 0.5351\n",
      "  Trait:\n",
      "    True: 0.2665\n",
      "    False: 0.7335\n",
      "James:\n",
      "  Gene:\n",
      "    2: 0.1976\n",
      "    1: 0.5106\n",
      "    0: 0.2918\n",
      "  Trait:\n",
      "    True: 1.0000\n",
      "    False: 0.0000\n",
      "Lily:\n",
      "  Gene:\n",
      "    2: 0.0036\n",
      "    1: 0.0136\n",
      "    0: 0.9827\n",
      "  Trait:\n",
      "    True: 0.0000\n",
      "    False: 1.0000\n"
     ]
    }
   ],
   "source": [
    "!python heredity.py data/family0.csv"
   ]
  },
  {
   "cell_type": "code",
   "execution_count": 2,
   "metadata": {},
   "outputs": [
    {
     "name": "stdout",
     "output_type": "stream",
     "text": [
      "Arthur:\n",
      "  Gene:\n",
      "    2: 0.0329\n",
      "    1: 0.1035\n",
      "    0: 0.8636\n",
      "  Trait:\n",
      "    True: 0.0000\n",
      "    False: 1.0000\n",
      "Charlie:\n",
      "  Gene:\n",
      "    2: 0.0018\n",
      "    1: 0.1331\n",
      "    0: 0.8651\n",
      "  Trait:\n",
      "    True: 0.0000\n",
      "    False: 1.0000\n",
      "Fred:\n",
      "  Gene:\n",
      "    2: 0.0065\n",
      "    1: 0.6486\n",
      "    0: 0.3449\n",
      "  Trait:\n",
      "    True: 1.0000\n",
      "    False: 0.0000\n",
      "Ginny:\n",
      "  Gene:\n",
      "    2: 0.0027\n",
      "    1: 0.1805\n",
      "    0: 0.8168\n",
      "  Trait:\n",
      "    True: 0.1110\n",
      "    False: 0.8890\n",
      "Molly:\n",
      "  Gene:\n",
      "    2: 0.0329\n",
      "    1: 0.1035\n",
      "    0: 0.8636\n",
      "  Trait:\n",
      "    True: 0.0000\n",
      "    False: 1.0000\n",
      "Ron:\n",
      "  Gene:\n",
      "    2: 0.0027\n",
      "    1: 0.1805\n",
      "    0: 0.8168\n",
      "  Trait:\n",
      "    True: 0.1110\n",
      "    False: 0.8890\n"
     ]
    }
   ],
   "source": [
    "!python heredity.py data/family1.csv"
   ]
  },
  {
   "cell_type": "code",
   "execution_count": 3,
   "metadata": {},
   "outputs": [
    {
     "name": "stdout",
     "output_type": "stream",
     "text": [
      "Arthur:\n",
      "  Gene:\n",
      "    2: 0.0147\n",
      "    1: 0.0344\n",
      "    0: 0.9509\n",
      "  Trait:\n",
      "    True: 0.0000\n",
      "    False: 1.0000\n",
      "Hermione:\n",
      "  Gene:\n",
      "    2: 0.0608\n",
      "    1: 0.1203\n",
      "    0: 0.8189\n",
      "  Trait:\n",
      "    True: 0.0000\n",
      "    False: 1.0000\n",
      "Molly:\n",
      "  Gene:\n",
      "    2: 0.0404\n",
      "    1: 0.0744\n",
      "    0: 0.8852\n",
      "  Trait:\n",
      "    True: 0.0768\n",
      "    False: 0.9232\n",
      "Ron:\n",
      "  Gene:\n",
      "    2: 0.0043\n",
      "    1: 0.2149\n",
      "    0: 0.7808\n",
      "  Trait:\n",
      "    True: 0.0000\n",
      "    False: 1.0000\n",
      "Rose:\n",
      "  Gene:\n",
      "    2: 0.0088\n",
      "    1: 0.7022\n",
      "    0: 0.2890\n",
      "  Trait:\n",
      "    True: 1.0000\n",
      "    False: 0.0000\n"
     ]
    }
   ],
   "source": [
    "!python heredity.py data/family2.csv"
   ]
  }
 ],
 "metadata": {
  "kernelspec": {
   "display_name": "Python 3",
   "language": "python",
   "name": "python3"
  },
  "language_info": {
   "codemirror_mode": {
    "name": "ipython",
    "version": 3
   },
   "file_extension": ".py",
   "mimetype": "text/x-python",
   "name": "python",
   "nbconvert_exporter": "python",
   "pygments_lexer": "ipython3",
   "version": "3.8.19"
  }
 },
 "nbformat": 4,
 "nbformat_minor": 2
}
