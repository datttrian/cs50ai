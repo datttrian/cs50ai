{
 "cells": [
  {
   "cell_type": "code",
   "execution_count": 1,
   "metadata": {},
   "outputs": [
    {
     "name": "stdout",
     "output_type": "stream",
     "text": [
      "Harry:\n",
      "  Gene:\n",
      "    2: 0.0092\n",
      "    1: 0.4557\n",
      "    0: 0.5351\n",
      "  Trait:\n",
      "    True: 0.2665\n",
      "    False: 0.7335\n",
      "James:\n",
      "  Gene:\n",
      "    2: 0.1976\n",
      "    1: 0.5106\n",
      "    0: 0.2918\n",
      "  Trait:\n",
      "    True: 1.0000\n",
      "    False: 0.0000\n",
      "Lily:\n",
      "  Gene:\n",
      "    2: 0.0036\n",
      "    1: 0.0136\n",
      "    0: 0.9827\n",
      "  Trait:\n",
      "    True: 0.0000\n",
      "    False: 1.0000\n"
     ]
    }
   ],
   "source": [
    "!python heredity.py data/family0.csv"
   ]
  }
 ],
 "metadata": {
  "kernelspec": {
   "display_name": "Python 3",
   "language": "python",
   "name": "python3"
  },
  "language_info": {
   "codemirror_mode": {
    "name": "ipython",
    "version": 3
   },
   "file_extension": ".py",
   "mimetype": "text/x-python",
   "name": "python",
   "nbconvert_exporter": "python",
   "pygments_lexer": "ipython3",
   "version": "3.8.19"
  }
 },
 "nbformat": 4,
 "nbformat_minor": 2
}
