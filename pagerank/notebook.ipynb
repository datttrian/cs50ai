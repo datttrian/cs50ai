{
 "cells": [
  {
   "cell_type": "code",
   "execution_count": 26,
   "metadata": {},
   "outputs": [
    {
     "name": "stdout",
     "output_type": "stream",
     "text": [
      "PageRank Results from Sampling (n = 10000)\n",
      "  1.html: 0.2211\n",
      "  2.html: 0.4282\n",
      "  3.html: 0.2170\n",
      "  4.html: 0.1337\n",
      "PageRank Results from Iteration\n",
      "  1.html: 0.2198\n",
      "  2.html: 0.4294\n",
      "  3.html: 0.2198\n",
      "  4.html: 0.1311\n"
     ]
    }
   ],
   "source": [
    "!python pagerank.py corpus0"
   ]
  },
  {
   "cell_type": "code",
   "execution_count": 27,
   "metadata": {},
   "outputs": [
    {
     "name": "stdout",
     "output_type": "stream",
     "text": [
      "PageRank Results from Sampling (n = 10000)\n",
      "  bfs.html: 0.1090\n",
      "  dfs.html: 0.0773\n",
      "  games.html: 0.2418\n",
      "  minesweeper.html: 0.1234\n",
      "  minimax.html: 0.1290\n",
      "  search.html: 0.1937\n",
      "  tictactoe.html: 0.1258\n",
      "PageRank Results from Iteration\n",
      "  bfs.html: 0.1152\n",
      "  dfs.html: 0.0809\n",
      "  games.html: 0.2277\n",
      "  minesweeper.html: 0.1180\n",
      "  minimax.html: 0.1312\n",
      "  search.html: 0.2090\n",
      "  tictactoe.html: 0.1180\n"
     ]
    }
   ],
   "source": [
    "!python pagerank.py corpus1"
   ]
  },
  {
   "cell_type": "code",
   "execution_count": 28,
   "metadata": {},
   "outputs": [
    {
     "name": "stdout",
     "output_type": "stream",
     "text": [
      "PageRank Results from Sampling (n = 10000)\n",
      "  ai.html: 0.1862\n",
      "  algorithms.html: 0.1069\n",
      "  c.html: 0.1236\n",
      "  inference.html: 0.1280\n",
      "  logic.html: 0.0255\n",
      "  programming.html: 0.2346\n",
      "  python.html: 0.1267\n",
      "  recursion.html: 0.0685\n",
      "PageRank Results from Iteration\n",
      "  ai.html: 0.1889\n",
      "  algorithms.html: 0.1064\n",
      "  c.html: 0.1238\n",
      "  inference.html: 0.1289\n",
      "  logic.html: 0.0264\n",
      "  programming.html: 0.2301\n",
      "  python.html: 0.1238\n",
      "  recursion.html: 0.0717\n"
     ]
    }
   ],
   "source": [
    "!python pagerank.py corpus2"
   ]
  }
 ],
 "metadata": {
  "kernelspec": {
   "display_name": "Python 3",
   "language": "python",
   "name": "python3"
  },
  "language_info": {
   "codemirror_mode": {
    "name": "ipython",
    "version": 3
   },
   "file_extension": ".py",
   "mimetype": "text/x-python",
   "name": "python",
   "nbconvert_exporter": "python",
   "pygments_lexer": "ipython3",
   "version": "3.8.19"
  }
 },
 "nbformat": 4,
 "nbformat_minor": 2
}
