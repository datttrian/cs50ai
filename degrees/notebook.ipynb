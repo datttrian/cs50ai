{
  "nbformat": 4,
  "nbformat_minor": 0,
  "metadata": {
    "colab": {
      "provenance": []
    },
    "kernelspec": {
      "name": "python3",
      "display_name": "Python 3"
    },
    "language_info": {
      "name": "python"
    }
  },
  "cells": [
    {
      "cell_type": "code",
      "source": [
        "!python degrees.py small"
      ],
      "metadata": {
        "colab": {
          "base_uri": "https://localhost:8080/"
        },
        "id": "xHZ6SdKedXvP",
        "outputId": "851b0184-8ec6-4941-e647-5c1f9acdc7f8"
      },
      "execution_count": 3,
      "outputs": [
        {
          "output_type": "stream",
          "name": "stdout",
          "text": [
            "Loading data...\n",
            "Data loaded.\n",
            "Name: Kevin Bacon\n",
            "Name: Tom Cruise\n",
            "1 degrees of separation.\n",
            "1: Kevin Bacon and Tom Cruise starred in A Few Good Men\n"
          ]
        }
      ]
    }
  ]
}