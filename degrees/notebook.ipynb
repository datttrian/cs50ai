{
  "nbformat": 4,
  "nbformat_minor": 0,
  "metadata": {
    "colab": {
      "provenance": []
    },
    "kernelspec": {
      "name": "python3",
      "display_name": "Python 3"
    },
    "language_info": {
      "name": "python"
    }
  },
  "cells": [
    {
      "cell_type": "code",
      "source": [
        "!python degrees.py small"
      ],
      "metadata": {
        "id": "ptcPD9l1eq1F",
        "outputId": "7b6113f9-a26d-482d-891e-4a7bb0d2b8b4",
        "colab": {
          "base_uri": "https://localhost:8080/"
        }
      },
      "execution_count": 6,
      "outputs": [
        {
          "output_type": "stream",
          "name": "stdout",
          "text": [
            "Loading data...\n",
            "Data loaded.\n",
            "Name: Kevin Bacon\n",
            "Name: Tom Cruise\n",
            "1 degrees of separation.\n",
            "1: Kevin Bacon and Tom Cruise starred in A Few Good Men\n"
          ]
        }
      ]
    },
    {
      "cell_type": "code",
      "source": [
        "!python degrees.py large"
      ],
      "metadata": {
        "colab": {
          "base_uri": "https://localhost:8080/"
        },
        "id": "xHZ6SdKedXvP",
        "outputId": "9b702fb3-ab18-444f-e49c-ce7380cb0a24"
      },
      "execution_count": null,
      "outputs": [
        {
          "output_type": "stream",
          "name": "stdout",
          "text": [
            "Loading data...\n",
            "Data loaded.\n",
            "Name: Emma Watson\n",
            "Name: Jennifer Lawrence\n",
            "3 degrees of separation.\n",
            "1: Emma Watson and Dustin Hoffman starred in The Tale of Despereaux\n",
            "2: Dustin Hoffman and Robert De Niro starred in Wag the Dog\n",
            "3: Robert De Niro and Jennifer Lawrence starred in Silver Linings Playbook\n"
          ]
        }
      ]
    }
  ]
}