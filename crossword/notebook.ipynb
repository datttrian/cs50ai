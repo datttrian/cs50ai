{
 "cells": [
  {
   "cell_type": "code",
   "execution_count": 9,
   "metadata": {},
   "outputs": [
    {
     "name": "stdout",
     "output_type": "stream",
     "text": [
      "██████████████\n",
      "███████B████T█\n",
      "█CONSIDERABLE█\n",
      "█R█████N████S█\n",
      "█A██QUIET███T█\n",
      "█C█████A████I█\n",
      "█K███WITHIN█F█\n",
      "███████H████Y█\n",
      "██████████████\n"
     ]
    }
   ],
   "source": [
    "!python generate.py data/structure1.txt data/words2.txt output.png"
   ]
  },
  {
   "cell_type": "code",
   "execution_count": 10,
   "metadata": {},
   "outputs": [
    {
     "name": "stdout",
     "output_type": "stream",
     "text": [
      "██████████████\n",
      "███████M████R█\n",
      "█INTELLIGENCE█\n",
      "█N█████N████S█\n",
      "█F██LOGIC███O█\n",
      "█E█████M████L█\n",
      "█R███SEARCH█V█\n",
      "███████X████E█\n",
      "██████████████\n"
     ]
    }
   ],
   "source": [
    "!python generate.py data/structure1.txt data/words1.txt output.png"
   ]
  },
  {
   "cell_type": "code",
   "execution_count": 11,
   "metadata": {},
   "outputs": [
    {
     "name": "stdout",
     "output_type": "stream",
     "text": [
      "No solution.\n"
     ]
    }
   ],
   "source": [
    "!python generate.py data/structure1.txt data/words0.txt output.png"
   ]
  },
  {
   "cell_type": "code",
   "execution_count": 12,
   "metadata": {},
   "outputs": [
    {
     "name": "stdout",
     "output_type": "stream",
     "text": [
      "██████P\n",
      "SAKE██L\n",
      "O██LATE\n",
      "U██I██N\n",
      "L██T██T\n",
      "█PIE██Y\n"
     ]
    }
   ],
   "source": [
    "!python generate.py data/structure2.txt data/words2.txt output.png"
   ]
  },
  {
   "cell_type": "code",
   "execution_count": 13,
   "metadata": {},
   "outputs": [
    {
     "name": "stdout",
     "output_type": "stream",
     "text": [
      "██████C\n",
      "LOSS██R\n",
      "I██TRUE\n",
      "N██A██A\n",
      "E██R██T\n",
      "█BIT██E\n"
     ]
    }
   ],
   "source": [
    "!python generate.py data/structure2.txt data/words1.txt output.png"
   ]
  },
  {
   "cell_type": "code",
   "execution_count": 14,
   "metadata": {},
   "outputs": [
    {
     "name": "stdout",
     "output_type": "stream",
     "text": [
      "No solution.\n"
     ]
    }
   ],
   "source": [
    "!python generate.py data/structure2.txt data/words0.txt output.png"
   ]
  },
  {
   "cell_type": "code",
   "execution_count": 15,
   "metadata": {},
   "outputs": [
    {
     "name": "stdout",
     "output_type": "stream",
     "text": [
      "█SIT█\n",
      "█A██M\n",
      "█L██O\n",
      "█E██V\n",
      "█SAVE\n"
     ]
    }
   ],
   "source": [
    "!python generate.py data/structure0.txt data/words2.txt output.png"
   ]
  },
  {
   "cell_type": "code",
   "execution_count": 16,
   "metadata": {},
   "outputs": [
    {
     "name": "stdout",
     "output_type": "stream",
     "text": [
      "█BIT█\n",
      "█A██B\n",
      "█Y██Y\n",
      "█E██T\n",
      "█SINE\n"
     ]
    }
   ],
   "source": [
    "!python generate.py data/structure0.txt data/words1.txt output.png"
   ]
  },
  {
   "cell_type": "code",
   "execution_count": 17,
   "metadata": {},
   "outputs": [
    {
     "name": "stdout",
     "output_type": "stream",
     "text": [
      "█SIX█\n",
      "█E██F\n",
      "█V██I\n",
      "█E██V\n",
      "█NINE\n"
     ]
    }
   ],
   "source": [
    "!python generate.py data/structure0.txt data/words0.txt output.png"
   ]
  }
 ],
 "metadata": {
  "kernelspec": {
   "display_name": "Python 3",
   "language": "python",
   "name": "python3"
  },
  "language_info": {
   "codemirror_mode": {
    "name": "ipython",
    "version": 3
   },
   "file_extension": ".py",
   "mimetype": "text/x-python",
   "name": "python",
   "nbconvert_exporter": "python",
   "pygments_lexer": "ipython3",
   "version": "3.8.19"
  }
 },
 "nbformat": 4,
 "nbformat_minor": 2
}
