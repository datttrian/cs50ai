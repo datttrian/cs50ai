{
 "cells": [
  {
   "cell_type": "code",
   "execution_count": 2,
   "metadata": {},
   "outputs": [
    {
     "name": "stdout",
     "output_type": "stream",
     "text": [
      "Puzzle 0\n",
      "    A is a Knave\n",
      "Puzzle 1\n",
      "    A is a Knave\n",
      "    B is a Knight\n",
      "Puzzle 2\n",
      "    A is a Knave\n",
      "    B is a Knight\n",
      "Puzzle 3\n",
      "    A is a Knight\n",
      "    B is a Knave\n",
      "    C is a Knight\n"
     ]
    }
   ],
   "source": [
    "!python puzzle.py"
   ]
  }
 ],
 "metadata": {
  "kernelspec": {
   "display_name": "Python 3",
   "language": "python",
   "name": "python3"
  },
  "language_info": {
   "codemirror_mode": {
    "name": "ipython",
    "version": 3
   },
   "file_extension": ".py",
   "mimetype": "text/x-python",
   "name": "python",
   "nbconvert_exporter": "python",
   "pygments_lexer": "ipython3",
   "version": "3.10.14"
  }
 },
 "nbformat": 4,
 "nbformat_minor": 2
}
