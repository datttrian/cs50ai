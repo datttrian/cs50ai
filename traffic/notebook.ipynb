{
 "cells": [
  {
   "cell_type": "code",
   "execution_count": 3,
   "metadata": {},
   "outputs": [
    {
     "name": "stdout",
     "output_type": "stream",
     "text": [
      "2024-07-22 09:43:48.346891: I tensorflow/tsl/cuda/cudart_stub.cc:28] Could not find cuda drivers on your machine, GPU will not be used.\n",
      "2024-07-22 09:43:48.578384: I tensorflow/tsl/cuda/cudart_stub.cc:28] Could not find cuda drivers on your machine, GPU will not be used.\n",
      "2024-07-22 09:43:48.578880: I tensorflow/core/platform/cpu_feature_guard.cc:182] This TensorFlow binary is optimized to use available CPU instructions in performance-critical operations.\n",
      "To enable the following instructions: AVX2 FMA, in other operations, rebuild TensorFlow with the appropriate compiler flags.\n",
      "2024-07-22 09:43:49.743094: W tensorflow/compiler/tf2tensorrt/utils/py_utils.cc:38] TF-TRT Warning: Could not find TensorRT\n",
      "Epoch 1/10\n",
      "121/121 [==============================] - 2s 14ms/step - loss: 11.4132 - accuracy: 0.0209\n",
      "Epoch 2/10\n",
      "121/121 [==============================] - 2s 13ms/step - loss: 3.7611 - accuracy: 0.0264\n",
      "Epoch 3/10\n",
      "121/121 [==============================] - 2s 13ms/step - loss: 3.7609 - accuracy: 0.0264\n",
      "Epoch 4/10\n",
      "121/121 [==============================] - 2s 15ms/step - loss: 3.7607 - accuracy: 0.0243\n",
      "Epoch 5/10\n",
      "121/121 [==============================] - 2s 13ms/step - loss: 3.7605 - accuracy: 0.0253\n",
      "Epoch 6/10\n",
      "121/121 [==============================] - 2s 13ms/step - loss: 3.7603 - accuracy: 0.0222\n",
      "Epoch 7/10\n",
      "121/121 [==============================] - 2s 14ms/step - loss: 3.7603 - accuracy: 0.0248\n",
      "Epoch 8/10\n",
      "121/121 [==============================] - 2s 13ms/step - loss: 3.7602 - accuracy: 0.0245\n",
      "Epoch 9/10\n",
      "121/121 [==============================] - 2s 13ms/step - loss: 3.7601 - accuracy: 0.0248\n",
      "Epoch 10/10\n",
      "121/121 [==============================] - 2s 13ms/step - loss: 3.7600 - accuracy: 0.0269\n",
      "81/81 - 1s - loss: 3.7657 - accuracy: 0.0178 - 516ms/epoch - 6ms/step\n"
     ]
    }
   ],
   "source": [
    "!python traffic.py gtsrb"
   ]
  }
 ],
 "metadata": {
  "kernelspec": {
   "display_name": "Python 3",
   "language": "python",
   "name": "python3"
  },
  "language_info": {
   "codemirror_mode": {
    "name": "ipython",
    "version": 3
   },
   "file_extension": ".py",
   "mimetype": "text/x-python",
   "name": "python",
   "nbconvert_exporter": "python",
   "pygments_lexer": "ipython3",
   "version": "2.7.undefined"
  }
 },
 "nbformat": 4,
 "nbformat_minor": 2
}
